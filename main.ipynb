{
 "cells": [
  {
   "cell_type": "code",
   "execution_count": 47,
   "id": "257fa3c0",
   "metadata": {},
   "outputs": [],
   "source": [
    "import os\n",
    "import pickle\n",
    "import numpy as np\n",
    "import time\n",
    "from tensorflow.keras.models import Sequential, load_model\n",
    "from tensorflow.keras.layers import LSTM, Dropout, Dense, Activation\n",
    "from tensorflow.keras.losses import SparseCategoricalCrossentropy\n",
    "from tensorflow.keras.optimizers import Adam\n",
    "from mealpy.swarm_based import GWO\n",
    "from music21 import stream, note, chord, midi, instrument\n",
    "from tensorflow.keras.callbacks import ModelCheckpoint\n",
    "from sklearn.model_selection import train_test_split"
   ]
  },
  {
   "cell_type": "code",
   "execution_count": 48,
   "id": "4a0d7fa5",
   "metadata": {},
   "outputs": [],
   "source": [
    "def load_notes(file_path=\"notes.pkl\"):\n",
    "    with open(file_path, \"rb\") as f:\n",
    "        notes = pickle.load(f)\n",
    "    return notes"
   ]
  },
  {
   "cell_type": "code",
   "execution_count": 50,
   "id": "c4037555",
   "metadata": {},
   "outputs": [],
   "source": [
    "def prepare_sequences(notes, sequence_length=100):\n",
    "    pitchnames = sorted(set(notes))\n",
    "    note_to_int = dict((note, number) for number, note in enumerate(pitchnames))\n",
    "\n",
    "    network_input = []\n",
    "    network_output = []\n",
    "\n",
    "    for i in range(len(notes) - sequence_length):\n",
    "        seq_in = notes[i:i + sequence_length]\n",
    "        seq_out = notes[i + sequence_length]\n",
    "        network_input.append([note_to_int[note] for note in seq_in])\n",
    "        network_output.append(note_to_int[seq_out])\n",
    "\n",
    "    n_patterns = len(network_input)\n",
    "    network_input = np.reshape(network_input, (n_patterns, sequence_length, 1))\n",
    "    network_input = network_input / float(len(pitchnames))\n",
    "    network_output = np.array(network_output)\n",
    "\n",
    "    return network_input, network_output, pitchnames"
   ]
  },
  {
   "cell_type": "code",
   "execution_count": 52,
   "id": "ace5765b",
   "metadata": {},
   "outputs": [],
   "source": [
    "def build_model(input_shape, output_size, lstm_units=512, dropout_rate=0.3):\n",
    "    model = Sequential([\n",
    "        LSTM(lstm_units, input_shape=input_shape, return_sequences=True),\n",
    "        Dropout(dropout_rate),\n",
    "        LSTM(lstm_units),\n",
    "        Dense(256),\n",
    "        Dropout(dropout_rate),\n",
    "        Dense(output_size),\n",
    "        Activation('softmax')\n",
    "    ])\n",
    "    model.compile(loss=SparseCategoricalCrossentropy(), optimizer=Adam(), metrics=['accuracy'])\n",
    "    return model"
   ]
  },
  {
   "cell_type": "code",
   "execution_count": 54,
   "id": "f071592b",
   "metadata": {},
   "outputs": [],
   "source": [
    "def optimize_with_gwo(network_input, network_output):\n",
    "    def fitness_func(solution):\n",
    "        lstm_units = int(solution[0])\n",
    "        dropout = float(solution[1])\n",
    "        model = build_model(network_input.shape[1:], network_output.shape[1], lstm_units, dropout)\n",
    "        history = model.fit(network_input, network_output, epochs=2, batch_size=64, verbose=0)\n",
    "        return history.history['loss'][-1]  # Minimize loss\n",
    "\n",
    "    problem = {\n",
    "        \"fit_func\": fitness_func,\n",
    "        \"lb\": [128, 0.1],\n",
    "        \"ub\": [1024, 0.5],\n",
    "        \"minmax\": \"min\",\n",
    "        \"log_to_file\": False,\n",
    "        \"verbose\": False\n",
    "    }\n",
    "    model_gwo = GWO.OriginalGWO(epoch=5, pop_size=5)\n",
    "    best = model_gwo.solve(problem)\n",
    "    best_lstm, best_dropout = int(best.best_position[0]), float(best.best_position[1])\n",
    "    return best_lstm, best_dropout\n"
   ]
  },
  {
   "cell_type": "code",
   "execution_count": 55,
   "id": "f9e1ef3e",
   "metadata": {},
   "outputs": [],
   "source": [
    "def train_model(model, X, y, epochs=20, label=\"Model\", save_path=None, checkpoint_path=None):\n",
    "    print(f\"\\nTraining {label}...\")\n",
    "    start = time.time()\n",
    "\n",
    "    initial_epoch = 0 \n",
    "    if checkpoint_path and os.path.exists(checkpoint_path):\n",
    "        print(f\"Restoring model from checkpoint {checkpoint_path}...\")\n",
    "        model = load_model(checkpoint_path)\n",
    "    \n",
    "    checkpoint_callback = ModelCheckpoint(\n",
    "        f\"{label}_checkpoint_{{epoch:02d}}.h5\", \n",
    "        save_best_only=False, \n",
    "        save_weights_only=False, \n",
    "        monitor='loss', \n",
    "        verbose=1\n",
    "    )\n",
    "\n",
    "    model.fit(X, y, epochs=epochs, batch_size=64, \n",
    "              callbacks=[checkpoint_callback], \n",
    "              initial_epoch=initial_epoch)\n",
    "    \n",
    "    end = time.time()\n",
    "    print(f\"{label} training completed in {(end - start):.2f} seconds.\")\n",
    "    \n",
    "    if save_path:\n",
    "        model.save(save_path)\n",
    "        print(f\"{label} saved to {save_path}\")\n",
    "\n",
    "    return model"
   ]
  },
  {
   "cell_type": "code",
   "execution_count": 56,
   "id": "162f435c",
   "metadata": {},
   "outputs": [],
   "source": [
    "def generate_notes(model, network_input, pitchnames, note_count=500, output_txt=\"generated_notes.txt\", output_midi=\"generated.mid\"):\n",
    "    int_to_note = dict((number, note) for number, note in enumerate(pitchnames))\n",
    "    start_index = np.random.randint(0, len(network_input) - 1)\n",
    "    pattern = network_input[start_index]\n",
    "    prediction_output = []\n",
    "\n",
    "    for _ in range(note_count):\n",
    "        prediction_input = np.reshape(pattern, (1, pattern.shape[0], 1))\n",
    "        prediction = model.predict(prediction_input, verbose=0)\n",
    "        index = np.argmax(prediction)\n",
    "        result = int_to_note[index]\n",
    "        prediction_output.append(result)\n",
    "        pattern = np.append(pattern[1:], [[index / float(len(pitchnames))]], axis=0)\n",
    "\n",
    "    with open(output_txt, \"w\") as f:\n",
    "        for note in prediction_output:\n",
    "            f.write(f\"{note}\\n\")\n",
    "    print(f\"\\nGenerated notes saved to {output_txt}\")\n",
    "\n",
    "    output_notes = []\n",
    "    for pattern in prediction_output:\n",
    "        if '.' in pattern or pattern.isdigit():\n",
    "            notes_in_chord = pattern.split('.')\n",
    "            chord_notes = [note.Note(int(n)) for n in notes_in_chord]\n",
    "            for n in chord_notes:\n",
    "                n.storedInstrument = instrument.Piano()\n",
    "            new_chord = chord.Chord(chord_notes)\n",
    "            output_notes.append(new_chord)\n",
    "        else:\n",
    "            new_note = note.Note(pattern)\n",
    "            new_note.storedInstrument = instrument.Piano()\n",
    "            output_notes.append(new_note)\n",
    "\n",
    "    midi_stream = stream.Stream(output_notes)\n",
    "    midi_stream.write('midi', fp=output_midi)\n",
    "    print(f\"Generated MIDI saved to {output_midi}\")"
   ]
  },
  {
   "cell_type": "code",
   "execution_count": null,
   "id": "e14957a6",
   "metadata": {},
   "outputs": [],
   "source": [
    "print(\"Loading notes...\")\n",
    "notes = load_notes()\n",
    "print(f\"Loaded {len(notes)} notes.\")"
   ]
  },
  {
   "cell_type": "code",
   "execution_count": null,
   "id": "2b3bd904",
   "metadata": {},
   "outputs": [],
   "source": [
    "print(\"Preparing sequences...\")\n",
    "X, y, pitchnames = prepare_sequences(notes)\n",
    "print(f\"Prepared {len(X)} sequences.\")"
   ]
  },
  {
   "cell_type": "code",
   "execution_count": null,
   "id": "b52745c9",
   "metadata": {},
   "outputs": [],
   "source": [
    "print(\"Building basic LSTM model...\")\n",
    "model_basic = build_model(X.shape[1:], len(set(y)))\n",
    "train_model(model_basic, X, y, label=\"Basic LSTM\", save_path=\"model_basic.h5\")\n",
    "generate_notes(model_basic, X, pitchnames, output_txt=\"generated_basic.txt\", output_midi=\"generated_basic.mid\")"
   ]
  },
  {
   "cell_type": "code",
   "execution_count": null,
   "id": "40dd4d7d",
   "metadata": {},
   "outputs": [],
   "source": [
    "print(\"Building model with GWO...\")\n",
    "lstm_units, dropout_rate = optimize_with_gwo(X, y)\n",
    "model_gwo = build_model(X.shape[1:], y.shape[1], lstm_units, dropout_rate)\n",
    "train_model(model_gwo, X, y, label=f\"GWO LSTM ({lstm_units} units, {dropout_rate:.2f} dropout)\", save_path=\"model_gwo.h5\")\n",
    "generate_notes(model_gwo, X, pitchnames, output_txt=\"generated_gwo.txt\", output_midi=\"generated_gwo.mid\")"
   ]
  }
 ],
 "metadata": {
  "kernelspec": {
   "display_name": "env",
   "language": "python",
   "name": "python3"
  },
  "language_info": {
   "codemirror_mode": {
    "name": "ipython",
    "version": 3
   },
   "file_extension": ".py",
   "mimetype": "text/x-python",
   "name": "python",
   "nbconvert_exporter": "python",
   "pygments_lexer": "ipython3",
   "version": "3.9.13"
  }
 },
 "nbformat": 4,
 "nbformat_minor": 5
}
